{
 "cells": [
  {
   "cell_type": "code",
   "execution_count": 8,
   "id": "e334a443",
   "metadata": {},
   "outputs": [
    {
     "name": "stderr",
     "output_type": "stream",
     "text": [
      "[*********************100%%**********************]  1 of 1 completed\n",
      "[*********************100%%**********************]  1 of 1 completed\n",
      "[*********************100%%**********************]  1 of 1 completed\n",
      "[*********************100%%**********************]  1 of 1 completed\n",
      "[*********************100%%**********************]  1 of 1 completed\n"
     ]
    }
   ],
   "source": [
    "import yfinance as yf\n",
    "import pandas as pd\n",
    "\n",
    "tickers = ['1454.TW', '2539.TW', '4438.TW', '3617.TW', '6139.TW']\n",
    "\n",
    "start_date = '2021-01-01'\n",
    "end_date = '2023-12-31'\n",
    "\n",
    "data = {}\n",
    "for ticker in tickers:\n",
    "    data[ticker] = yf.download(ticker, start=start_date, end=end_date)\n",
    "\n",
    "# 將資料合併到一個 DataFrame 中\n",
    "df = pd.concat(data.values(), axis=1)\n",
    "\n",
    "# 將資料存儲到 CSV 檔案中\n",
    "df.to_csv('stock_data.csv')"
   ]
  },
  {
   "cell_type": "code",
   "execution_count": 9,
   "id": "5043adc9",
   "metadata": {},
   "outputs": [
    {
     "name": "stderr",
     "output_type": "stream",
     "text": [
      "[*********************100%%**********************]  1 of 1 completed\n"
     ]
    }
   ],
   "source": [
    "df2=yf.download('IR0001'+'.TW',start='2021-01-01', period='max', interval='1d')\n",
    "df2.to_csv('yahoo'+'IR0001'+'TW.csv')"
   ]
  },
  {
   "cell_type": "code",
   "execution_count": 19,
   "id": "ea66c6b3",
   "metadata": {},
   "outputs": [],
   "source": [
    "tickers = ['1454', '2539', '4438', '3617', '6139']\n",
    "tickers.append('IR0001.TW')"
   ]
  },
  {
   "cell_type": "code",
   "execution_count": 20,
   "id": "2391ef13",
   "metadata": {
    "scrolled": true
   },
   "outputs": [
    {
     "name": "stdout",
     "output_type": "stream",
     "text": [
      "['1454', '2539', '4438', '3617', '6139', 'IR0001.TW']\n"
     ]
    }
   ],
   "source": [
    "print(tickers)"
   ]
  },
  {
   "cell_type": "code",
   "execution_count": 37,
   "id": "96c51ba9",
   "metadata": {},
   "outputs": [],
   "source": [
    "import pandas as pd\n",
    "import matplotlib.pyplot as plt"
   ]
  },
  {
   "cell_type": "code",
   "execution_count": 32,
   "id": "6da83aa8",
   "metadata": {},
   "outputs": [],
   "source": [
    "def make_pipeline():\n",
    "    # 計算短期移動平均線（Short-term Moving Average）\n",
    "    short_ma = SimpleMovingAverage(inputs=[EquityPricing.close], window_length=50)\n",
    "    \n",
    "    # 計算長期移動平均線（Long-term Moving Average）\n",
    "    long_ma = SimpleMovingAverage(inputs=[EquityPricing.close], window_length=200)\n",
    "    \n",
    "    # 計算當前價格\n",
    "    curr_price = EquityPricing.close.latest\n",
    "    \n",
    "    # 根據道氏理論，判斷趨勢\n",
    "    trend = (short_ma > long_ma) & (curr_price > short_ma)\n",
    "    \n",
    "    # 計算相對強弱指數（RSI）\n",
    "    delta = EquityPricing.close.diff()\n",
    "    up, down = delta.copy(), delta.copy()\n",
    "    up[up < 0] = 0\n",
    "    down[down > 0] = 0\n",
    "    roll_up = up.rolling(window=14).mean()\n",
    "    roll_down = down.rolling(window=14).mean().abs()\n",
    "    rs = roll_up / roll_down\n",
    "    rsi = 100 - (100 / (1 + rs))\n",
    "    \n",
    "    return Pipeline(\n",
    "        columns = {\n",
    "            'hort_ma': short_ma,\n",
    "            'long_ma': long_ma,\n",
    "            'curr_price': curr_price,\n",
    "            'trend': trend,\n",
    "            'rsi': rsi\n",
    "        }\n",
    "    )"
   ]
  },
  {
   "cell_type": "code",
   "execution_count": 33,
   "id": "11c32651",
   "metadata": {},
   "outputs": [],
   "source": [
    "def initialize(context):\n",
    "    context.last_buy_price = 0\n",
    "    set_slippage(slippage.VolumeShareSlippage())\n",
    "    set_commission(commission.PerShare(cost=0.00285))\n",
    "    set_benchmark(symbol('IR0001'))\n",
    "    attach_pipeline(make_pipeline(), 'mystrategy')\n",
    "    context.last_signal_price = 0"
   ]
  },
  {
   "cell_type": "code",
   "execution_count": 34,
   "id": "7aac4995",
   "metadata": {},
   "outputs": [],
   "source": [
    "#如果短期移動平均線高於長期移動平均線，且當前價格高於短期移動平均線，且 RSI 小於 30，則買入股票。\n",
    "#如果短期移動平均線低於長期移動平均線，或者當前價格低於短期移動平均線，或者 RSI 高於 70，則賣出股票。\n",
    "#注意：這個函數假設了股票的交易量為 1000 股，並且使用 context.last_signal_price 變數來記錄最後一次買賣的價格。\n",
    "def handle_data(context, data):\n",
    "    out_dir = pipeline_output('mystrategy')\n",
    "    for i in out_dir.index: \n",
    "        short_ma = out_dir.loc[i, 'hort_ma']\n",
    "        long_ma = out_dir.loc[i, 'long_ma']\n",
    "        curr_price = out_dir.loc[i, 'curr_price']\n",
    "        rsi = out_dir.loc[i, 'rsi']\n",
    "        cash_position = context.portfolio.cash\n",
    "        stock_position = context.portfolio.positions[i].amount\n",
    "        \n",
    "        buy, sell = False, False\n",
    "        record(price = curr_price, short_ma = short_ma, long_ma = long_ma, rsi = rsi, buy = buy, sell = sell)\n",
    "        \n",
    "        if stock_position == 0:\n",
    "            if (short_ma > long_ma) and (curr_price > short_ma) and (rsi < 30) and (cash_position >= curr_price * 1000):\n",
    "                order(i, 1000)\n",
    "                context.last_signal_price = curr_price\n",
    "                buy = True\n",
    "                record(buy = buy)\n",
    "        elif stock_position > 0:\n",
    "            if (short_ma < long_ma) or (curr_price < short_ma) or (rsi > 70):\n",
    "                order_target(i, 0)\n",
    "                context.last_signal_price = 0\n",
    "                sell = True\n",
    "                record(sell = sell)\n",
    "            else:\n",
    "                pass\n",
    "        else:\n",
    "            pass"
   ]
  },
  {
   "cell_type": "code",
   "execution_count": 35,
   "id": "ea4ecdec",
   "metadata": {},
   "outputs": [],
   "source": [
    "def analyze(context, perf):\n",
    "    fig = plt.figure()\n",
    "    ax1 = fig.add_subplot(211)\n",
    "    perf.portfolio_value.plot(ax=ax1)\n",
    "    ax1.set_ylabel(\"Portfolio value (NTD)\")\n",
    "    ax2 = fig.add_subplot(212)\n",
    "    ax2.set_ylabel(\"Price (NTD)\")\n",
    "    perf.price.plot(ax=ax2)\n",
    "    perf.short_ma.plot(ax=ax2)\n",
    "    perf.long_ma.plot(ax=ax2)\n",
    "    ax2.plot( # 繪製買入訊號\n",
    "        perf.index[perf.buy],\n",
    "        perf.loc[perf.buy, 'price'],\n",
    "        '^',\n",
    "        markersize=5,\n",
    "        color='red'\n",
    "    )\n",
    "    ax2.plot( # 繪製賣出訊號\n",
    "        perf.index[perf.sell],\n",
    "        perf.loc[perf.sell, 'price'],\n",
    "        'v',\n",
    "        markersize=5,\n",
    "        color='green'\n",
    "    )\n",
    "    plt.legend(loc=0)\n",
    "    plt.gcf().set_size_inches(18,8)\n",
    "    plt.show()"
   ]
  },
  {
   "cell_type": "code",
   "execution_count": 42,
   "id": "4262431c",
   "metadata": {},
   "outputs": [
    {
     "ename": "ValueError",
     "evalue": "Missing column provided to 'parse_dates': 'date'",
     "output_type": "error",
     "traceback": [
      "\u001b[0;31m---------------------------------------------------------------------------\u001b[0m",
      "\u001b[0;31mValueError\u001b[0m                                Traceback (most recent call last)",
      "\u001b[0;32m<ipython-input-42-4ad856e831e5>\u001b[0m in \u001b[0;36m<module>\u001b[0;34m\u001b[0m\n\u001b[1;32m     55\u001b[0m \u001b[0;34m\u001b[0m\u001b[0m\n\u001b[1;32m     56\u001b[0m \u001b[0;31m# 加载数据\u001b[0m\u001b[0;34m\u001b[0m\u001b[0;34m\u001b[0m\u001b[0;34m\u001b[0m\u001b[0m\n\u001b[0;32m---> 57\u001b[0;31m \u001b[0mdata\u001b[0m \u001b[0;34m=\u001b[0m \u001b[0mpd\u001b[0m\u001b[0;34m.\u001b[0m\u001b[0mread_csv\u001b[0m\u001b[0;34m(\u001b[0m\u001b[0;34m\"stock_data.csv\"\u001b[0m\u001b[0;34m,\u001b[0m \u001b[0mindex_col\u001b[0m\u001b[0;34m=\u001b[0m\u001b[0;34m\"date\"\u001b[0m\u001b[0;34m,\u001b[0m \u001b[0mparse_dates\u001b[0m\u001b[0;34m=\u001b[0m\u001b[0;34m[\u001b[0m\u001b[0;34m\"date\"\u001b[0m\u001b[0;34m]\u001b[0m\u001b[0;34m)\u001b[0m\u001b[0;34m\u001b[0m\u001b[0;34m\u001b[0m\u001b[0m\n\u001b[0m\u001b[1;32m     58\u001b[0m \u001b[0;34m\u001b[0m\u001b[0m\n\u001b[1;32m     59\u001b[0m \u001b[0;31m# 初始化上下文\u001b[0m\u001b[0;34m\u001b[0m\u001b[0;34m\u001b[0m\u001b[0;34m\u001b[0m\u001b[0m\n",
      "\u001b[0;32m/opt/anaconda3/lib/python3.8/site-packages/pandas/io/parsers/readers.py\u001b[0m in \u001b[0;36mread_csv\u001b[0;34m(filepath_or_buffer, sep, delimiter, header, names, index_col, usecols, dtype, engine, converters, true_values, false_values, skipinitialspace, skiprows, skipfooter, nrows, na_values, keep_default_na, na_filter, verbose, skip_blank_lines, parse_dates, infer_datetime_format, keep_date_col, date_parser, date_format, dayfirst, cache_dates, iterator, chunksize, compression, thousands, decimal, lineterminator, quotechar, quoting, doublequote, escapechar, comment, encoding, encoding_errors, dialect, on_bad_lines, delim_whitespace, low_memory, memory_map, float_precision, storage_options, dtype_backend)\u001b[0m\n\u001b[1;32m    910\u001b[0m     \u001b[0mkwds\u001b[0m\u001b[0;34m.\u001b[0m\u001b[0mupdate\u001b[0m\u001b[0;34m(\u001b[0m\u001b[0mkwds_defaults\u001b[0m\u001b[0;34m)\u001b[0m\u001b[0;34m\u001b[0m\u001b[0;34m\u001b[0m\u001b[0m\n\u001b[1;32m    911\u001b[0m \u001b[0;34m\u001b[0m\u001b[0m\n\u001b[0;32m--> 912\u001b[0;31m     \u001b[0;32mreturn\u001b[0m \u001b[0m_read\u001b[0m\u001b[0;34m(\u001b[0m\u001b[0mfilepath_or_buffer\u001b[0m\u001b[0;34m,\u001b[0m \u001b[0mkwds\u001b[0m\u001b[0;34m)\u001b[0m\u001b[0;34m\u001b[0m\u001b[0;34m\u001b[0m\u001b[0m\n\u001b[0m\u001b[1;32m    913\u001b[0m \u001b[0;34m\u001b[0m\u001b[0m\n\u001b[1;32m    914\u001b[0m \u001b[0;34m\u001b[0m\u001b[0m\n",
      "\u001b[0;32m/opt/anaconda3/lib/python3.8/site-packages/pandas/io/parsers/readers.py\u001b[0m in \u001b[0;36m_read\u001b[0;34m(filepath_or_buffer, kwds)\u001b[0m\n\u001b[1;32m    575\u001b[0m \u001b[0;34m\u001b[0m\u001b[0m\n\u001b[1;32m    576\u001b[0m     \u001b[0;31m# Create the parser.\u001b[0m\u001b[0;34m\u001b[0m\u001b[0;34m\u001b[0m\u001b[0;34m\u001b[0m\u001b[0m\n\u001b[0;32m--> 577\u001b[0;31m     \u001b[0mparser\u001b[0m \u001b[0;34m=\u001b[0m \u001b[0mTextFileReader\u001b[0m\u001b[0;34m(\u001b[0m\u001b[0mfilepath_or_buffer\u001b[0m\u001b[0;34m,\u001b[0m \u001b[0;34m**\u001b[0m\u001b[0mkwds\u001b[0m\u001b[0;34m)\u001b[0m\u001b[0;34m\u001b[0m\u001b[0;34m\u001b[0m\u001b[0m\n\u001b[0m\u001b[1;32m    578\u001b[0m \u001b[0;34m\u001b[0m\u001b[0m\n\u001b[1;32m    579\u001b[0m     \u001b[0;32mif\u001b[0m \u001b[0mchunksize\u001b[0m \u001b[0;32mor\u001b[0m \u001b[0miterator\u001b[0m\u001b[0;34m:\u001b[0m\u001b[0;34m\u001b[0m\u001b[0;34m\u001b[0m\u001b[0m\n",
      "\u001b[0;32m/opt/anaconda3/lib/python3.8/site-packages/pandas/io/parsers/readers.py\u001b[0m in \u001b[0;36m__init__\u001b[0;34m(self, f, engine, **kwds)\u001b[0m\n\u001b[1;32m   1405\u001b[0m \u001b[0;34m\u001b[0m\u001b[0m\n\u001b[1;32m   1406\u001b[0m         \u001b[0mself\u001b[0m\u001b[0;34m.\u001b[0m\u001b[0mhandles\u001b[0m\u001b[0;34m:\u001b[0m \u001b[0mIOHandles\u001b[0m \u001b[0;34m|\u001b[0m \u001b[0;32mNone\u001b[0m \u001b[0;34m=\u001b[0m \u001b[0;32mNone\u001b[0m\u001b[0;34m\u001b[0m\u001b[0;34m\u001b[0m\u001b[0m\n\u001b[0;32m-> 1407\u001b[0;31m         \u001b[0mself\u001b[0m\u001b[0;34m.\u001b[0m\u001b[0m_engine\u001b[0m \u001b[0;34m=\u001b[0m \u001b[0mself\u001b[0m\u001b[0;34m.\u001b[0m\u001b[0m_make_engine\u001b[0m\u001b[0;34m(\u001b[0m\u001b[0mf\u001b[0m\u001b[0;34m,\u001b[0m \u001b[0mself\u001b[0m\u001b[0;34m.\u001b[0m\u001b[0mengine\u001b[0m\u001b[0;34m)\u001b[0m\u001b[0;34m\u001b[0m\u001b[0;34m\u001b[0m\u001b[0m\n\u001b[0m\u001b[1;32m   1408\u001b[0m \u001b[0;34m\u001b[0m\u001b[0m\n\u001b[1;32m   1409\u001b[0m     \u001b[0;32mdef\u001b[0m \u001b[0mclose\u001b[0m\u001b[0;34m(\u001b[0m\u001b[0mself\u001b[0m\u001b[0;34m)\u001b[0m \u001b[0;34m->\u001b[0m \u001b[0;32mNone\u001b[0m\u001b[0;34m:\u001b[0m\u001b[0;34m\u001b[0m\u001b[0;34m\u001b[0m\u001b[0m\n",
      "\u001b[0;32m/opt/anaconda3/lib/python3.8/site-packages/pandas/io/parsers/readers.py\u001b[0m in \u001b[0;36m_make_engine\u001b[0;34m(self, f, engine)\u001b[0m\n\u001b[1;32m   1677\u001b[0m \u001b[0;34m\u001b[0m\u001b[0m\n\u001b[1;32m   1678\u001b[0m         \u001b[0;32mtry\u001b[0m\u001b[0;34m:\u001b[0m\u001b[0;34m\u001b[0m\u001b[0;34m\u001b[0m\u001b[0m\n\u001b[0;32m-> 1679\u001b[0;31m             \u001b[0;32mreturn\u001b[0m \u001b[0mmapping\u001b[0m\u001b[0;34m[\u001b[0m\u001b[0mengine\u001b[0m\u001b[0;34m]\u001b[0m\u001b[0;34m(\u001b[0m\u001b[0mf\u001b[0m\u001b[0;34m,\u001b[0m \u001b[0;34m**\u001b[0m\u001b[0mself\u001b[0m\u001b[0;34m.\u001b[0m\u001b[0moptions\u001b[0m\u001b[0;34m)\u001b[0m\u001b[0;34m\u001b[0m\u001b[0;34m\u001b[0m\u001b[0m\n\u001b[0m\u001b[1;32m   1680\u001b[0m         \u001b[0;32mexcept\u001b[0m \u001b[0mException\u001b[0m\u001b[0;34m:\u001b[0m\u001b[0;34m\u001b[0m\u001b[0;34m\u001b[0m\u001b[0m\n\u001b[1;32m   1681\u001b[0m             \u001b[0;32mif\u001b[0m \u001b[0mself\u001b[0m\u001b[0;34m.\u001b[0m\u001b[0mhandles\u001b[0m \u001b[0;32mis\u001b[0m \u001b[0;32mnot\u001b[0m \u001b[0;32mNone\u001b[0m\u001b[0;34m:\u001b[0m\u001b[0;34m\u001b[0m\u001b[0;34m\u001b[0m\u001b[0m\n",
      "\u001b[0;32m/opt/anaconda3/lib/python3.8/site-packages/pandas/io/parsers/c_parser_wrapper.py\u001b[0m in \u001b[0;36m__init__\u001b[0;34m(self, src, **kwds)\u001b[0m\n\u001b[1;32m    159\u001b[0m \u001b[0;34m\u001b[0m\u001b[0m\n\u001b[1;32m    160\u001b[0m         \u001b[0;31m# error: Cannot determine type of 'names'\u001b[0m\u001b[0;34m\u001b[0m\u001b[0;34m\u001b[0m\u001b[0;34m\u001b[0m\u001b[0m\n\u001b[0;32m--> 161\u001b[0;31m         \u001b[0mself\u001b[0m\u001b[0;34m.\u001b[0m\u001b[0m_validate_parse_dates_presence\u001b[0m\u001b[0;34m(\u001b[0m\u001b[0mself\u001b[0m\u001b[0;34m.\u001b[0m\u001b[0mnames\u001b[0m\u001b[0;34m)\u001b[0m  \u001b[0;31m# type: ignore[has-type]\u001b[0m\u001b[0;34m\u001b[0m\u001b[0;34m\u001b[0m\u001b[0m\n\u001b[0m\u001b[1;32m    162\u001b[0m         \u001b[0mself\u001b[0m\u001b[0;34m.\u001b[0m\u001b[0m_set_noconvert_columns\u001b[0m\u001b[0;34m(\u001b[0m\u001b[0;34m)\u001b[0m\u001b[0;34m\u001b[0m\u001b[0;34m\u001b[0m\u001b[0m\n\u001b[1;32m    163\u001b[0m \u001b[0;34m\u001b[0m\u001b[0m\n",
      "\u001b[0;32m/opt/anaconda3/lib/python3.8/site-packages/pandas/io/parsers/base_parser.py\u001b[0m in \u001b[0;36m_validate_parse_dates_presence\u001b[0;34m(self, columns)\u001b[0m\n\u001b[1;32m    226\u001b[0m         )\n\u001b[1;32m    227\u001b[0m         \u001b[0;32mif\u001b[0m \u001b[0mmissing_cols\u001b[0m\u001b[0;34m:\u001b[0m\u001b[0;34m\u001b[0m\u001b[0;34m\u001b[0m\u001b[0m\n\u001b[0;32m--> 228\u001b[0;31m             raise ValueError(\n\u001b[0m\u001b[1;32m    229\u001b[0m                 \u001b[0;34mf\"Missing column provided to 'parse_dates': '{missing_cols}'\"\u001b[0m\u001b[0;34m\u001b[0m\u001b[0;34m\u001b[0m\u001b[0m\n\u001b[1;32m    230\u001b[0m             )\n",
      "\u001b[0;31mValueError\u001b[0m: Missing column provided to 'parse_dates': 'date'"
     ]
    }
   ],
   "source": [
    "import pandas as pd\n",
    "import numpy as np\n",
    "\n",
    "# 定义初始化函数\n",
    "def initialize(data):\n",
    "    context = {}  # 创建一个空字典来存储上下文信息\n",
    "    context['last_buy_price'] = 0\n",
    "    # 设置滑点模型\n",
    "    context['slippage'] = 'VolumeShareSlippage'\n",
    "    # 设置佣金模型\n",
    "    context['commission'] = {'cost': 0.00285}\n",
    "    # 设置基准股票\n",
    "    context['benchmark'] = 'IR0001'\n",
    "    # 创建一个空的pipeline\n",
    "    context['pipeline'] = make_pipeline()\n",
    "    context['last_signal_price'] = 0\n",
    "    return context\n",
    "\n",
    "# 定义交易逻辑函数\n",
    "def handle_data(data, context):\n",
    "    # 交易逻辑代码\n",
    "    for code in data.columns:\n",
    "        short_ma = data[code].rolling(window=20).mean().iloc[-1]\n",
    "        long_ma = data[code].rolling(window=50).mean().iloc[-1]\n",
    "        rsi = calculate_rsi(data[code], 14).iloc[-1]\n",
    "        current_price = data[code].iloc[-1]\n",
    "        \n",
    "        if short_ma > long_ma and current_price > short_ma and rsi < 30:\n",
    "            # 买入信号\n",
    "            context['last_buy_price'] = current_price\n",
    "            print(f\"Buy signal for {code} at {current_price}\")\n",
    "        elif short_ma < long_ma or current_price < short_ma or rsi > 70:\n",
    "            # 卖出信号\n",
    "            print(f\"Sell signal for {code} at {current_price}\")\n",
    "    return context\n",
    "\n",
    "# 定义 RSI 计算函数\n",
    "def calculate_rsi(data, period):\n",
    "    delta = data.diff().dropna()\n",
    "    up, down = delta.copy(), delta.copy()\n",
    "    up[up < 0] = 0\n",
    "    down[down > 0] = 0\n",
    "    roll_up = up.rolling(window=period).mean()\n",
    "    roll_down = down.rolling(window=period).mean().abs()\n",
    "    rs = roll_up / roll_down\n",
    "    rsi = 100.0 - (100.0 / (1.0 + rs))\n",
    "    return rsi\n",
    "\n",
    "# 定义分析函数\n",
    "def analyze(perf_stats):\n",
    "    # 分析代码\n",
    "    print(\"累积报酬：\", perf_stats.cum_returns)\n",
    "    print(\"年化报酬：\", perf_stats.annualized_return)\n",
    "    print(\"最大回撤：\", perf_stats.max_drawdown)\n",
    "\n",
    "# 加载数据\n",
    "data = pd.read_csv(\"stock_data.csv\", index_col=\"date\", parse_dates=[\"date\"])\n",
    "\n",
    "# 初始化上下文\n",
    "context = initialize(data)\n",
    "\n",
    "# 运行回测\n",
    "perf_stats = pd.DataFrame(index=data.index, columns=[\"cum_returns\", \"annualized_return\", \"max_drawdown\"])\n",
    "for i in range(1, len(data)):\n",
    "    context = handle_data(data.iloc[:i], context)\n",
    "    perf_stats.iloc[i] = calculate_performance(context, data.iloc[:i])\n",
    "\n",
    "# 分析结果\n",
    "analyze(perf_stats)"
   ]
  }
 ],
 "metadata": {
  "kernelspec": {
   "display_name": "Python 3",
   "language": "python",
   "name": "python3"
  },
  "language_info": {
   "codemirror_mode": {
    "name": "ipython",
    "version": 3
   },
   "file_extension": ".py",
   "mimetype": "text/x-python",
   "name": "python",
   "nbconvert_exporter": "python",
   "pygments_lexer": "ipython3",
   "version": "3.8.8"
  }
 },
 "nbformat": 4,
 "nbformat_minor": 5
}
