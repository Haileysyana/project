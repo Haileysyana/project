{
 "cells": [
  {
   "cell_type": "code",
   "execution_count": 8,
   "id": "f37ce333",
   "metadata": {},
   "outputs": [
    {
     "name": "stderr",
     "output_type": "stream",
     "text": [
      "[*********************100%%**********************]  1 of 1 completed\n",
      "[*********************100%%**********************]  1 of 1 completed\n",
      "[*********************100%%**********************]  1 of 1 completed\n",
      "[*********************100%%**********************]  1 of 1 completed\n",
      "[*********************100%%**********************]  1 of 1 completed\n"
     ]
    }
   ],
   "source": [
    "import yfinance as yf\n",
    "import pandas as pd\n",
    "\n",
    "tickers = ['1454.TW', '2539.TW', '4438.TW', '3617.TW', '6139.TW']\n",
    "\n",
    "start_date = '2021-01-01'\n",
    "end_date = '2023-12-31'\n",
    "\n",
    "data = {}\n",
    "for ticker in tickers:\n",
    "    data[ticker] = yf.download(ticker, start=start_date, end=end_date)\n",
    "\n",
    "# 將資料合併到一個 DataFrame 中\n",
    "df = pd.concat(data.values(), axis=1)\n",
    "\n",
    "# 將資料存儲到 CSV 檔案中\n",
    "df.to_csv('stock_data.csv')"
   ]
  },
  {
   "cell_type": "code",
   "execution_count": 9,
   "id": "31e5d060",
   "metadata": {},
   "outputs": [
    {
     "name": "stderr",
     "output_type": "stream",
     "text": [
      "[*********************100%%**********************]  1 of 1 completed\n"
     ]
    }
   ],
   "source": [
    "df2=yf.download('IR0001'+'.TW',start='2021-01-01', period='max', interval='1d')\n",
    "df2.to_csv('yahoo'+'IR0001'+'TW.csv')"
   ]
  },
  {
   "cell_type": "code",
   "execution_count": 19,
   "id": "635e8c9e",
   "metadata": {},
   "outputs": [],
   "source": [
    "tickers = ['1454', '2539', '4438', '3617', '6139']\n",
    "tickers.append('IR0001.TW')"
   ]
  },
  {
   "cell_type": "code",
   "execution_count": 20,
   "id": "775269b6",
   "metadata": {
    "scrolled": true
   },
   "outputs": [
    {
     "name": "stdout",
     "output_type": "stream",
     "text": [
      "['1454', '2539', '4438', '3617', '6139', 'IR0001.TW']\n"
     ]
    }
   ],
   "source": [
    "print(tickers)"
   ]
  },
  {
   "cell_type": "code",
   "execution_count": 37,
   "id": "8be0909f",
   "metadata": {},
   "outputs": [],
   "source": [
    "import pandas as pd\n",
    "import matplotlib.pyplot as plt"
   ]
  },
  {
   "cell_type": "code",
   "execution_count": 32,
   "id": "bd2c4ada",
   "metadata": {},
   "outputs": [],
   "source": [
    "def make_pipeline():\n",
    "    # 計算短期移動平均線（Short-term Moving Average）\n",
    "    short_ma = SimpleMovingAverage(inputs=[EquityPricing.close], window_length=50)\n",
    "    \n",
    "    # 計算長期移動平均線（Long-term Moving Average）\n",
    "    long_ma = SimpleMovingAverage(inputs=[EquityPricing.close], window_length=200)\n",
    "    \n",
    "    # 計算當前價格\n",
    "    curr_price = EquityPricing.close.latest\n",
    "    \n",
    "    # 根據道氏理論，判斷趨勢\n",
    "    trend = (short_ma > long_ma) & (curr_price > short_ma)\n",
    "    \n",
    "    # 計算相對強弱指數（RSI）\n",
    "    delta = EquityPricing.close.diff()\n",
    "    up, down = delta.copy(), delta.copy()\n",
    "    up[up < 0] = 0\n",
    "    down[down > 0] = 0\n",
    "    roll_up = up.rolling(window=14).mean()\n",
    "    roll_down = down.rolling(window=14).mean().abs()\n",
    "    rs = roll_up / roll_down\n",
    "    rsi = 100 - (100 / (1 + rs))\n",
    "    \n",
    "    return Pipeline(\n",
    "        columns = {\n",
    "            'hort_ma': short_ma,\n",
    "            'long_ma': long_ma,\n",
    "            'curr_price': curr_price,\n",
    "            'trend': trend,\n",
    "            'rsi': rsi\n",
    "        }\n",
    "    )"
   ]
  },
  {
   "cell_type": "code",
   "execution_count": 33,
   "id": "e9ad783c",
   "metadata": {},
   "outputs": [],
   "source": [
    "def initialize(context):\n",
    "    context.last_buy_price = 0\n",
    "    set_slippage(slippage.VolumeShareSlippage())\n",
    "    set_commission(commission.PerShare(cost=0.00285))\n",
    "    set_benchmark(symbol('IR0001'))\n",
    "    attach_pipeline(make_pipeline(), 'mystrategy')\n",
    "    context.last_signal_price = 0"
   ]
  },
  {
   "cell_type": "code",
   "execution_count": 34,
   "id": "dfa00cff",
   "metadata": {},
   "outputs": [],
   "source": [
    "#如果短期移動平均線高於長期移動平均線，且當前價格高於短期移動平均線，且 RSI 小於 30，則買入股票。\n",
    "#如果短期移動平均線低於長期移動平均線，或者當前價格低於短期移動平均線，或者 RSI 高於 70，則賣出股票。\n",
    "#假設了股票的交易量為 1000 股，並且使用 context.last_signal_price 變數來記錄最後一次買賣的價格。\n",
    "def handle_data(context, data):\n",
    "    out_dir = pipeline_output('mystrategy')\n",
    "    for i in out_dir.index: \n",
    "        short_ma = out_dir.loc[i, 'hort_ma']\n",
    "        long_ma = out_dir.loc[i, 'long_ma']\n",
    "        curr_price = out_dir.loc[i, 'curr_price']\n",
    "        rsi = out_dir.loc[i, 'rsi']\n",
    "        cash_position = context.portfolio.cash\n",
    "        stock_position = context.portfolio.positions[i].amount\n",
    "        \n",
    "        buy, sell = False, False\n",
    "        record(price = curr_price, short_ma = short_ma, long_ma = long_ma, rsi = rsi, buy = buy, sell = sell)\n",
    "        \n",
    "        if stock_position == 0:\n",
    "            if (short_ma > long_ma) and (curr_price > short_ma) and (rsi < 30) and (cash_position >= curr_price * 1000):\n",
    "                order(i, 1000)\n",
    "                context.last_signal_price = curr_price\n",
    "                buy = True\n",
    "                record(buy = buy)\n",
    "        elif stock_position > 0:\n",
    "            if (short_ma < long_ma) or (curr_price < short_ma) or (rsi > 70):\n",
    "                order_target(i, 0)\n",
    "                context.last_signal_price = 0\n",
    "                sell = True\n",
    "                record(sell = sell)\n",
    "            else:\n",
    "                pass\n",
    "        else:\n",
    "            pass"
   ]
  },
  {
   "cell_type": "code",
   "execution_count": 35,
   "id": "74c2f6bf",
   "metadata": {},
   "outputs": [],
   "source": [
    "def analyze(context, perf):\n",
    "    fig = plt.figure()\n",
    "    ax1 = fig.add_subplot(211)\n",
    "    perf.portfolio_value.plot(ax=ax1)\n",
    "    ax1.set_ylabel(\"Portfolio value (NTD)\")\n",
    "    ax2 = fig.add_subplot(212)\n",
    "    ax2.set_ylabel(\"Price (NTD)\")\n",
    "    perf.price.plot(ax=ax2)\n",
    "    perf.short_ma.plot(ax=ax2)\n",
    "    perf.long_ma.plot(ax=ax2)\n",
    "    ax2.plot( # 繪製買入訊號\n",
    "        perf.index[perf.buy],\n",
    "        perf.loc[perf.buy, 'price'],\n",
    "        '^',\n",
    "        markersize=5,\n",
    "        color='red'\n",
    "    )\n",
    "    ax2.plot( # 繪製賣出訊號\n",
    "        perf.index[perf.sell],\n",
    "        perf.loc[perf.sell, 'price'],\n",
    "        'v',\n",
    "        markersize=5,\n",
    "        color='green'\n",
    "    )\n",
    "    plt.legend(loc=0)\n",
    "    plt.gcf().set_size_inches(18,8)\n",
    "    plt.show()"
   ]
  }
 ],
 "metadata": {
  "kernelspec": {
   "display_name": "Python 3",
   "language": "python",
   "name": "python3"
  },
  "language_info": {
   "codemirror_mode": {
    "name": "ipython",
    "version": 3
   },
   "file_extension": ".py",
   "mimetype": "text/x-python",
   "name": "python",
   "nbconvert_exporter": "python",
   "pygments_lexer": "ipython3",
   "version": "3.8.8"
  }
 },
 "nbformat": 4,
 "nbformat_minor": 5
}
